{
 "cells": [
  {
   "cell_type": "code",
   "execution_count": 1,
   "metadata": {},
   "outputs": [],
   "source": [
    "import numpy as np\n",
    "import pandas as pd\n",
    "import torch\n",
    "import torch.nn as nn\n",
    "import torch.nn.parallel\n",
    "import torch.optim as optim\n",
    "import torch.utils.data\n",
    "from torch.autograd import Variable\n",
    "\n",
    "#from rbm import RBM"
   ]
  },
  {
   "cell_type": "markdown",
   "metadata": {},
   "source": [
    "## Define model"
   ]
  },
  {
   "cell_type": "code",
   "execution_count": 2,
   "metadata": {},
   "outputs": [],
   "source": [
    "class RBM_simple():\n",
    "\n",
    "    def __init__(self, num_visible, num_hidden, learning_rate=1e-3, use_cuda=False):\n",
    "        \"\"\"\n",
    "        :param num_visible: int\n",
    "            Number of visible nodes\n",
    "        :param num_hidden: int\n",
    "            Number of hidden nodes\n",
    "        :param k:\n",
    "            step of Gibbs sampling (Contrastive Divergence as optimizer). Usually = 1\n",
    "        :param learning_rate: float\n",
    "        :param use_cuda : Boolean\n",
    "            Using GPU or not\n",
    "        \"\"\"\n",
    "        self.num_visible = num_visible\n",
    "        self.num_hidden = num_hidden\n",
    "        # self.k = k\n",
    "        self.learning_rate = learning_rate\n",
    "        self.use_cuda = use_cuda\n",
    "        self.train_loss = 0\n",
    "\n",
    "        self.weights = torch.randn(num_hidden, num_visible)\n",
    "        self.visible_bias = torch.ones(num_visible)\n",
    "        self.hidden_bias = torch.ones(num_hidden)\n",
    "\n",
    "        if self.use_cuda:\n",
    "            self.weights = self.weights.cuda()\n",
    "            self.visible_bias = self.visible_bias.cuda()\n",
    "            self.hidden_bias = self.hidden_bias.cuda()\n",
    "\n",
    "    def sample_hidden(self, visible_prob):\n",
    "        \"\"\"\n",
    "        :param visible_prob:\n",
    "            Probability of visible layer\n",
    "        :return:\n",
    "            Hidden probability & Sample from hidden prob (Bernoulli distribution)\n",
    "        \"\"\"\n",
    "        hidden_activations = torch.mm(visible_prob, self.weights.t()) + self.hidden_bias\n",
    "        hidden_prob = torch.sigmoid(hidden_activations)\n",
    "        return hidden_prob, torch.bernoulli(hidden_prob)\n",
    "\n",
    "    def sample_visible(self, hidden_prob):\n",
    "        \"\"\"\n",
    "        :param hidden_prob:\n",
    "            Probability of hidden layer\n",
    "        :return:\n",
    "            Visible probability & Samples from visible prob (Bernoulli distribution)\n",
    "        \"\"\"\n",
    "        visible_activations = torch.mm(hidden_prob, self.weights) + self.visible_bias\n",
    "        visible_prob = torch.sigmoid(visible_activations)\n",
    "        return visible_prob, torch.bernoulli(visible_prob)\n",
    "\n",
    "    def train(self, v0, vk, ph0, phk):\n",
    "        \"\"\"\n",
    "        :param v0:\n",
    "        :param vk:\n",
    "        :param ph0:\n",
    "        :param phk:\n",
    "        :return:\n",
    "        \"\"\"\n",
    "        self.weights += (torch.mm(v0.t(), ph0) - torch.mm(vk.t(), phk)).t()\n",
    "        self.visible_bias += torch.sum((v0 - vk), 0)\n",
    "        self.hidden_bias += torch.sum((ph0 - phk), 0)\n",
    "        self.train_loss += torch.mean(torch.abs(v0[v0 >= 0] - vk[v0 >= 0]))\n",
    "        return self.train_loss"
   ]
  },
  {
   "cell_type": "markdown",
   "metadata": {},
   "source": [
    "## Prepare datasets for train and test"
   ]
  },
  {
   "cell_type": "code",
   "execution_count": 3,
   "metadata": {},
   "outputs": [],
   "source": [
    "movies = pd.read_csv('data/ml-1m/movies.dat', sep = '::', header = None, engine = 'python', encoding = 'latin-1')\n",
    "users = pd.read_csv('data/ml-1m/users.dat', sep = '::', header = None, engine = 'python', encoding = 'latin-1')\n",
    "ratings = pd.read_csv('data/ml-1m/ratings.dat', sep = '::', header = None, engine = 'python', encoding = 'latin-1')"
   ]
  },
  {
   "cell_type": "code",
   "execution_count": 4,
   "metadata": {},
   "outputs": [],
   "source": [
    "training_set = pd.read_csv('data/ml-100k/u1.base', delimiter = '\\t')\n",
    "training_set = np.array(training_set, dtype = 'int')\n",
    "test_set = pd.read_csv('data/ml-100k/u1.test', delimiter = '\\t')\n",
    "test_set = np.array(test_set, dtype = 'int') "
   ]
  },
  {
   "cell_type": "code",
   "execution_count": 5,
   "metadata": {},
   "outputs": [],
   "source": [
    "no_users = int(max(max(training_set[:,0]), max(test_set[:,0])))\n",
    "no_movies = int(max(max(training_set[:,1]), max(test_set[:,1])))"
   ]
  },
  {
   "cell_type": "code",
   "execution_count": 6,
   "metadata": {},
   "outputs": [],
   "source": [
    "def convert(data):\n",
    "    new_data = []\n",
    "    for id_users in range(1, no_users + 1):\n",
    "        id_movies = data[:,1][data[:,0] == id_users]\n",
    "        id_ratings = data[:,2][data[:,0] == id_users]\n",
    "        ratings = np.zeros(no_movies)\n",
    "        ratings[id_movies - 1] = id_ratings\n",
    "        new_data.append(list(ratings))\n",
    "    return new_data"
   ]
  },
  {
   "cell_type": "code",
   "execution_count": 7,
   "metadata": {},
   "outputs": [],
   "source": [
    "training_set = convert(training_set)\n",
    "test_set = convert(test_set)"
   ]
  },
  {
   "cell_type": "code",
   "execution_count": 8,
   "metadata": {},
   "outputs": [],
   "source": [
    "training_set = torch.FloatTensor(training_set)\n",
    "test_set = torch.FloatTensor(test_set)"
   ]
  },
  {
   "cell_type": "code",
   "execution_count": 9,
   "metadata": {},
   "outputs": [],
   "source": [
    "training_set[training_set == 0] = -1\n",
    "training_set[training_set == 1] = 0\n",
    "training_set[training_set == 2] = 0\n",
    "training_set[training_set >= 3] = 1\n",
    "test_set[test_set == 0] = -1\n",
    "test_set[test_set == 1] = 0\n",
    "test_set[test_set == 2] = 0\n",
    "test_set[test_set >= 3] = 1"
   ]
  },
  {
   "cell_type": "markdown",
   "metadata": {},
   "source": [
    "## Start runner"
   ]
  },
  {
   "cell_type": "code",
   "execution_count": 10,
   "metadata": {},
   "outputs": [],
   "source": [
    "nv = len(training_set[0])\n",
    "nh = 200\n",
    "batch_size = 100\n",
    "rbm = RBM_simple(nv, nh)"
   ]
  },
  {
   "cell_type": "code",
   "execution_count": 11,
   "metadata": {},
   "outputs": [
    {
     "name": "stdout",
     "output_type": "stream",
     "text": [
      "epoch: 1 loss: tensor(1.9963)\n",
      "epoch: 2 loss: tensor(4.4732)\n",
      "epoch: 3 loss: tensor(6.6709)\n",
      "epoch: 4 loss: tensor(8.9189)\n",
      "epoch: 5 loss: tensor(11.1356)\n"
     ]
    }
   ],
   "source": [
    "nb_epoch = 5\n",
    "for epoch in range(1, nb_epoch + 1):\n",
    "    train_loss = 0\n",
    "    s = 0.\n",
    "    for id_user in range(0, no_users - batch_size, batch_size):\n",
    "        vk = training_set[id_user:id_user+batch_size]\n",
    "        v0 = training_set[id_user:id_user+batch_size]\n",
    "        ph0,_ = rbm.sample_hidden(v0)\n",
    "        for k in range(10):\n",
    "            _,hk = rbm.sample_hidden(vk)\n",
    "            _,vk = rbm.sample_visible(hk)\n",
    "            vk[v0<0] = v0[v0<0]\n",
    "        phk,_ = rbm.sample_hidden(vk)\n",
    "        train_loss += rbm.train(v0, vk, ph0, phk)\n",
    "        s += 1.\n",
    "    print('epoch: '+str(epoch)+' loss: '+str(train_loss/s))"
   ]
  },
  {
   "cell_type": "code",
   "execution_count": 12,
   "metadata": {},
   "outputs": [
    {
     "name": "stdout",
     "output_type": "stream",
     "text": [
      "test loss: tensor(0.2582)\n"
     ]
    }
   ],
   "source": [
    "test_loss = 0\n",
    "s = 0.\n",
    "for id_user in range(no_users):\n",
    "    v = training_set[id_user:id_user+1]\n",
    "    vt = test_set[id_user:id_user+1]\n",
    "    if len(vt[vt>=0]) > 0:\n",
    "        _,h = rbm.sample_hidden(v)\n",
    "        _,v = rbm.sample_visible(h)\n",
    "        test_loss += torch.mean(torch.abs(vt[vt>=0] - v[vt>=0]))\n",
    "        s += 1.\n",
    "print('test loss: '+str(test_loss/s))"
   ]
  },
  {
   "cell_type": "code",
   "execution_count": null,
   "metadata": {},
   "outputs": [],
   "source": []
  }
 ],
 "metadata": {
  "kernelspec": {
   "display_name": "Python 3",
   "language": "python",
   "name": "python3"
  },
  "language_info": {
   "codemirror_mode": {
    "name": "ipython",
    "version": 3
   },
   "file_extension": ".py",
   "mimetype": "text/x-python",
   "name": "python",
   "nbconvert_exporter": "python",
   "pygments_lexer": "ipython3",
   "version": "3.6.4"
  }
 },
 "nbformat": 4,
 "nbformat_minor": 2
}
